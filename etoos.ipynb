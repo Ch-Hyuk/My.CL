{
 "cells": [
  {
   "cell_type": "code",
   "execution_count": 1,
   "metadata": {},
   "outputs": [],
   "source": [
    "from selenium import webdriver\n",
    "from selenium.webdriver.common.keys import Keys\n",
    "import time\n",
    "import re\n",
    "import json\n",
    "import pandas as pd"
   ]
  },
  {
   "cell_type": "code",
   "execution_count": 112,
   "metadata": {},
   "outputs": [],
   "source": [
    "def crawling(subject_name):\n",
    "    \n",
    "    subject = driver.find_element_by_css_selector('#divL_AJAX > div.list_setsearch.setsearch_type4.mt_15 > div.setsearch1.fst > div > div > ul:nth-child(1) > li:nth-child({}) > a'.format(subject_name))\n",
    "    subject.send_keys(Keys.ENTER)\n",
    "    time.sleep(5)\n",
    "    \n",
    "    # 전체 강좌 수\n",
    "    cnt = range(0, len(driver.find_elements_by_css_selector(\"strong.tit > a\")))\n",
    "    print(cnt)\n",
    "    for i in cnt:\n",
    "        \n",
    "        # 리스트에 없는 강좌들만 추가 (고3, 고2, 고1 세 파트에 걸쳐 있는 강좌가 존재해서)\n",
    "        if not driver.find_elements_by_css_selector(\"strong.tit > a\")[i].text in etoos_eng['title']:\n",
    "            \n",
    "            # 과목 추가\n",
    "            etoos['subject'].append('영어')\n",
    "            \n",
    "            # 선생님 추가\n",
    "            etoos['teacher'].append(driver.find_elements_by_css_selector(\".lect_tch\")[i].text)\n",
    "            \n",
    "            # 제목 추가\n",
    "            etoos['title'].append(driver.find_elements_by_css_selector(\"strong.tit > a\")[i].text)\n",
    "            \n",
    "            # 강좌 상세 페이지 진입\n",
    "            driver.find_elements_by_css_selector(\"strong.tit > a\")[i].send_keys(Keys.ENTER)\n",
    "            \n",
    "            # 추천 학년 추가\n",
    "            etoos['grade'].append(driver.find_element_by_css_selector(\"dl:nth-child(4) > dd:nth-child(2)\").text)\n",
    "            \n",
    "            driver.back()\n",
    "            time.sleep(5)\n",
    "            \n",
    "            subject = driver.find_element_by_css_selector('#divL_AJAX > div.list_setsearch.setsearch_type4.mt_15 > div.setsearch1.fst > div > div > ul:nth-child(1) > li:nth-child({}) > a'.format(subject_name))\n",
    "            subject.send_keys(Keys.ENTER)\n",
    "            time.sleep(5)"
   ]
  },
  {
   "cell_type": "code",
   "execution_count": 3,
   "metadata": {},
   "outputs": [],
   "source": [
    "driver = webdriver.Chrome('C:/Users/user/Downloads/chromedriver.exe')"
   ]
  },
  {
   "cell_type": "code",
   "execution_count": 22,
   "metadata": {},
   "outputs": [
    {
     "name": "stdout",
     "output_type": "stream",
     "text": [
      "range(0, 252)\n"
     ]
    }
   ],
   "source": [
    "# 고3 전체 강좌 목록 페이지\n",
    "driver.get(\"https://go3.etoos.com/lecture/TotalSearch.asp\")\n",
    "time.sleep(1)\n",
    "\n",
    "# 국어 카테고리 진입\n",
    "subject = \"1\" \n",
    "\n",
    "etoos = {'title': [], 'subject': [], 'teacher': [], 'grade': []}\n",
    "\n",
    "crawling(subject)"
   ]
  },
  {
   "cell_type": "code",
   "execution_count": 25,
   "metadata": {},
   "outputs": [],
   "source": [
    "df = pd.DataFrame.from_dict(etoos)\n",
    "df.to_json('etoos_3_kor.json', orient = 'records')"
   ]
  },
  {
   "cell_type": "code",
   "execution_count": 36,
   "metadata": {},
   "outputs": [],
   "source": [
    "etoos_3_kor = etoos"
   ]
  },
  {
   "cell_type": "code",
   "execution_count": 37,
   "metadata": {},
   "outputs": [
    {
     "name": "stdout",
     "output_type": "stream",
     "text": [
      "range(0, 197)\n"
     ]
    }
   ],
   "source": [
    "# 고2 전체 강좌 목록 페이지\n",
    "driver.get(\"https://go2.etoos.com/lecture/TotalSearch.asp\")\n",
    "time.sleep(1)\n",
    "\n",
    "# 국어 카테고리 진입\n",
    "subject = \"1\" \n",
    "\n",
    "etoos = {'title': [], 'subject': [], 'teacher': [], 'grade': []}\n",
    "\n",
    "crawling(subject)"
   ]
  },
  {
   "cell_type": "code",
   "execution_count": 39,
   "metadata": {},
   "outputs": [],
   "source": [
    "etoos_3_kor['title'].extend(etoos['title'])\n",
    "etoos_3_kor['subject'].extend(etoos['subject'])\n",
    "etoos_3_kor['teacher'].extend(etoos['teacher'])\n",
    "etoos_3_kor['grade'].extend(etoos['grade'])"
   ]
  },
  {
   "cell_type": "code",
   "execution_count": 44,
   "metadata": {},
   "outputs": [
    {
     "name": "stdout",
     "output_type": "stream",
     "text": [
      "range(0, 187)\n"
     ]
    }
   ],
   "source": [
    "# 고1 전체 강좌 목록 페이지\n",
    "driver.get(\"https://go1.etoos.com/lecture/TotalSearch.asp\")\n",
    "time.sleep(1)\n",
    "\n",
    "# 국어 카테고리 진입\n",
    "subject = \"1\" \n",
    "\n",
    "etoos = {'title': [], 'subject': [], 'teacher': [], 'grade': []}\n",
    "\n",
    "crawling(subject)"
   ]
  },
  {
   "cell_type": "code",
   "execution_count": 47,
   "metadata": {},
   "outputs": [],
   "source": [
    "etoos_3_kor['title'].extend(etoos['title'])\n",
    "etoos_3_kor['subject'].extend(etoos['subject'])\n",
    "etoos_3_kor['teacher'].extend(etoos['teacher'])\n",
    "etoos_3_kor['grade'].extend(etoos['grade'])"
   ]
  },
  {
   "cell_type": "code",
   "execution_count": 49,
   "metadata": {},
   "outputs": [],
   "source": [
    "df = pd.DataFrame.from_dict(etoos_3_kor)\n",
    "df.to_json('etoos_kor.json', orient = 'records')"
   ]
  },
  {
   "cell_type": "code",
   "execution_count": 52,
   "metadata": {},
   "outputs": [
    {
     "name": "stdout",
     "output_type": "stream",
     "text": [
      "range(528, 631)\n"
     ]
    }
   ],
   "source": [
    "# 고3 전체 강좌 목록 페이지\n",
    "driver.get(\"https://go3.etoos.com/lecture/TotalSearch.asp\")\n",
    "time.sleep(4)\n",
    "\n",
    "# 수학 카테고리 진입\n",
    "subject = \"2\" \n",
    "\n",
    "etoos = {'title': [], 'subject': [], 'teacher': [], 'grade': []}\n",
    "\n",
    "crawling(subject)"
   ]
  },
  {
   "cell_type": "code",
   "execution_count": 54,
   "metadata": {},
   "outputs": [],
   "source": [
    "etoos_math = etoos"
   ]
  },
  {
   "cell_type": "code",
   "execution_count": 62,
   "metadata": {},
   "outputs": [
    {
     "name": "stdout",
     "output_type": "stream",
     "text": [
      "range(197, 686)\n"
     ]
    }
   ],
   "source": [
    "# 고2 전체 강좌 목록 페이지\n",
    "driver.get(\"https://go2.etoos.com/lecture/TotalSearch.asp\")\n",
    "time.sleep(1)\n",
    "\n",
    "# 수학 카테고리 진입\n",
    "subject = \"2\" \n",
    "\n",
    "etoos = {'title': [], 'subject': [], 'teacher': [], 'grade': []}\n",
    "\n",
    "crawling(subject)"
   ]
  },
  {
   "cell_type": "code",
   "execution_count": 64,
   "metadata": {},
   "outputs": [],
   "source": [
    "etoos_math['title'].extend(etoos['title'])\n",
    "etoos_math['subject'].extend(etoos['subject'])\n",
    "etoos_math['teacher'].extend(etoos['teacher'])\n",
    "etoos_math['grade'].extend(etoos['grade'])"
   ]
  },
  {
   "cell_type": "code",
   "execution_count": 72,
   "metadata": {},
   "outputs": [
    {
     "name": "stdout",
     "output_type": "stream",
     "text": [
      "range(21, 400)\n"
     ]
    }
   ],
   "source": [
    "# 고1 전체 강좌 목록 페이지\n",
    "driver.get(\"https://go1.etoos.com/lecture/TotalSearch.asp\")\n",
    "time.sleep(1)\n",
    "\n",
    "# 수학 카테고리 진입\n",
    "subject = \"2\" \n",
    "\n",
    "etoos = {'title': [], 'subject': [], 'teacher': [], 'grade': []}\n",
    "\n",
    "crawling(subject)"
   ]
  },
  {
   "cell_type": "code",
   "execution_count": 75,
   "metadata": {},
   "outputs": [],
   "source": [
    "etoos_math['title'].extend(etoos['title'])\n",
    "etoos_math['subject'].extend(etoos['subject'])\n",
    "etoos_math['teacher'].extend(etoos['teacher'])\n",
    "etoos_math['grade'].extend(etoos['grade'])"
   ]
  },
  {
   "cell_type": "code",
   "execution_count": 76,
   "metadata": {},
   "outputs": [],
   "source": [
    "df = pd.DataFrame.from_dict(etoos_math)\n",
    "df.to_json('etoos_math.json', orient = 'records')"
   ]
  },
  {
   "cell_type": "code",
   "execution_count": 78,
   "metadata": {},
   "outputs": [
    {
     "name": "stdout",
     "output_type": "stream",
     "text": [
      "range(0, 271)\n"
     ]
    }
   ],
   "source": [
    "# 고3 전체 강좌 목록 페이지\n",
    "driver.get(\"https://go3.etoos.com/lecture/TotalSearch.asp\")\n",
    "time.sleep(1)\n",
    "\n",
    "# 영어 카테고리 진입\n",
    "subject = \"3\" \n",
    "\n",
    "etoos = {'title': [], 'subject': [], 'teacher': [], 'grade': []}\n",
    "\n",
    "crawling(subject)"
   ]
  },
  {
   "cell_type": "code",
   "execution_count": 93,
   "metadata": {},
   "outputs": [],
   "source": [
    "etoos_eng = etoos"
   ]
  },
  {
   "cell_type": "code",
   "execution_count": 106,
   "metadata": {},
   "outputs": [
    {
     "name": "stdout",
     "output_type": "stream",
     "text": [
      "range(325, 438)\n"
     ]
    }
   ],
   "source": [
    "# 고2 전체 강좌 목록 페이지\n",
    "driver.get(\"https://go2.etoos.com/lecture/TotalSearch.asp\")\n",
    "time.sleep(3)\n",
    "\n",
    "# 영어 카테고리 진입\n",
    "subject = \"3\" \n",
    "\n",
    "etoos = {'title': [], 'subject': [], 'teacher': [], 'grade': []}\n",
    "\n",
    "crawling(subject)"
   ]
  },
  {
   "cell_type": "code",
   "execution_count": 110,
   "metadata": {},
   "outputs": [],
   "source": [
    "etoos_eng['title'].extend(etoos['title'])\n",
    "etoos_eng['subject'].extend(etoos['subject'])\n",
    "etoos_eng['teacher'].extend(etoos['teacher'])\n",
    "etoos_eng['grade'].extend(etoos['grade'])"
   ]
  },
  {
   "cell_type": "code",
   "execution_count": 113,
   "metadata": {},
   "outputs": [
    {
     "name": "stdout",
     "output_type": "stream",
     "text": [
      "range(0, 415)\n"
     ]
    }
   ],
   "source": [
    "# 고1 전체 강좌 목록 페이지\n",
    "driver.get(\"https://go1.etoos.com/lecture/TotalSearch.asp\")\n",
    "time.sleep(3)\n",
    "\n",
    "# 영어 카테고리 진입\n",
    "subject = \"3\" \n",
    "\n",
    "etoos = {'title': [], 'subject': [], 'teacher': [], 'grade': []}\n",
    "\n",
    "crawling(subject)"
   ]
  },
  {
   "cell_type": "code",
   "execution_count": 115,
   "metadata": {},
   "outputs": [],
   "source": [
    "etoos_eng['title'].extend(etoos['title'])\n",
    "etoos_eng['subject'].extend(etoos['subject'])\n",
    "etoos_eng['teacher'].extend(etoos['teacher'])\n",
    "etoos_eng['grade'].extend(etoos['grade'])"
   ]
  },
  {
   "cell_type": "code",
   "execution_count": 116,
   "metadata": {},
   "outputs": [],
   "source": [
    "df = pd.DataFrame.from_dict(etoos_eng)\n",
    "df.to_json('etoos_eng.json', orient = 'records')"
   ]
  },
  {
   "cell_type": "code",
   "execution_count": null,
   "metadata": {},
   "outputs": [],
   "source": []
  }
 ],
 "metadata": {
  "kernelspec": {
   "display_name": "Python 3",
   "language": "python",
   "name": "python3"
  }
 },
 "nbformat": 4,
 "nbformat_minor": 4
}
