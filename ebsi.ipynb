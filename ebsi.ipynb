{
 "cells": [
  {
   "cell_type": "code",
   "execution_count": 2,
   "metadata": {},
   "outputs": [],
   "source": [
    "from selenium import webdriver\n",
    "from selenium.webdriver.common.keys import Keys\n",
    "import time\n",
    "import json\n",
    "import pandas as pd\n",
    "import re"
   ]
  },
  {
   "cell_type": "code",
   "execution_count": 15,
   "metadata": {
    "scrolled": false
   },
   "outputs": [],
   "source": [
    "# 제목, 별점 크롤링\n",
    "def title_star_crawling(page):\n",
    "    \n",
    "    # 한 페이지 강의 갯수\n",
    "    cnt = range(0, len(driver.find_elements_by_css_selector(\"p.tit > a\")))\n",
    "  \n",
    "    for i in cnt:\n",
    "     \n",
    "        # 제목 요소 크롤링\n",
    "        # 제목 요소 버튼 클릭하여 상세 페이지 진입\n",
    "        if driver.find_elements_by_css_selector(\"p.tit > a\")[i]:\n",
    "            \n",
    "            title = driver.find_elements_by_css_selector(\"p.tit > a\")[i]\n",
    "            \n",
    "            # 제목 리스트 추가\n",
    "            ebsi['title'].append(title.text)\n",
    "            title.send_keys(Keys.ENTER)\n",
    "            time.sleep(1)\n",
    "            \n",
    "            # 별점 요소 크롤링\n",
    "            st = driver.find_elements_by_css_selector(\".rate_star\")\n",
    "    \n",
    "            # 사용자 후기가 있는 강의는 강의 별점과 개인 사용자 별점이 같은 페이지에 존재하여 \n",
    "            # 두 번째(강의 별점)[1] 요소 숫자[0]만 받기\n",
    "            st = [s.text.strip() for s in st]  \n",
    "            if len(st) > 1:\n",
    "                ebsi['star'].append(st[1][0])\n",
    "            \n",
    "            # 후기가 없는 경우\n",
    "            else:           \n",
    "                ebsi['star'].append('-')\n",
    "                \n",
    "            driver.back()\n",
    "            time.sleep(1)\n",
    "            \n",
    "            # 강의 상세 페이지에서 뒤로가기할 시 1페이지로 돌아가서 해당 페이지까지 next_page 실행\n",
    "            if page != 0:\n",
    "                for _ in range(0, page):\n",
    "                    next_page()\n",
    "    \n",
    "    # 빈 값 삭제 처리    \n",
    "    ebsi['title'] = [i for i in ebsi['title'] if i]\n",
    "\n",
    "    \n",
    "# 선생님, 과목 크롤링\n",
    "def info_crawling():\n",
    "    \n",
    "    # 한 줄로 받아올 수 있어서 (요소 구분 x) 각 해당 문자 인덱스로 받아온다.  \n",
    "    subjects = driver.find_elements_by_css_selector(\".detail_info\")\n",
    "    \n",
    "    for i in subjects:\n",
    "        ebsi['subject'].append(i.text[0:3])\n",
    "    \n",
    "    for i in subjects:\n",
    "        ebsi['teacher'].append(i.text[3:11])\n",
    "    \n",
    "    # 문자에 포함된 \\n 삭제    \n",
    "    ebsi['subject'] = [i.strip() for i in ebsi['subject'] if i]\n",
    "    \n",
    "    # 선생님 문자 가공\n",
    "    teacher = []\n",
    "    for i in ebsi['teacher']:\n",
    "        for j in re.findall('[\\s]?([\\w]*)[\\s]?', i):\n",
    "            if len(j) == 3:\n",
    "                teacher.append(j)\n",
    "    ebsi['teacher'] = teacher\n",
    "\n",
    "    \n",
    "# 다음 페이지\n",
    "def next_page():\n",
    "    \n",
    "    time.sleep(1)\n",
    "    # 다음 페이지로 갈 수 있는 버튼 요소    \n",
    "    btn = driver.find_element_by_css_selector(\".btn_next\")\n",
    "    btn.send_keys(Keys.ENTER)\n",
    "    time.sleep(1)\n",
    "    "
   ]
  },
  {
   "cell_type": "code",
   "execution_count": 4,
   "metadata": {},
   "outputs": [],
   "source": [
    "driver = webdriver.Chrome('C:/Users/user/Downloads/chromedriver.exe')"
   ]
  },
  {
   "cell_type": "code",
   "execution_count": 18,
   "metadata": {
    "scrolled": true
   },
   "outputs": [],
   "source": [
    "ebsi = {'title': [], 'subject' : [], 'teacher' : [], 'star': []}\n",
    "\n",
    "# 페이지 수로 반복문\n",
    "# ebsi 고1 국어\n",
    "driver.get(\"https://www.ebsi.co.kr/ebs/pot/potn/retrieveSbjtListByArea.ebs?categoryCode=B100&cookieGradeVal=high1\")\n",
    "time.sleep(1)\n",
    "\n",
    "for i in range(0, 10):\n",
    "    title_star_crawling(i)\n",
    "    info_crawling()\n",
    "    \n",
    "    if i != 9:\n",
    "        next_page()"
   ]
  },
  {
   "cell_type": "code",
   "execution_count": 35,
   "metadata": {},
   "outputs": [],
   "source": [
    "df = pd.DataFrame.from_dict(ebsi)\n",
    "df.to_json('ebsi_1_kor.json', orient = 'records')"
   ]
  },
  {
   "cell_type": "code",
   "execution_count": 37,
   "metadata": {},
   "outputs": [],
   "source": [
    "ebsi_1_kor = ebsi"
   ]
  },
  {
   "cell_type": "code",
   "execution_count": 6,
   "metadata": {},
   "outputs": [],
   "source": [
    "ebsi = {'title': [], 'subject' : [], 'teacher' : [], 'star': []}\n",
    "\n",
    "# 페이지 수로 반복문\n",
    "# ebsi 고1 수학\n",
    "driver.get(\"https://www.ebsi.co.kr/ebs/pot/potn/retrieveSbjtListByArea.ebs?categoryCode=B300&cookieGradeVal=high1\")\n",
    "time.sleep(1)\n",
    "\n",
    "for i in range(0, 12):\n",
    "    title_star_crawling(i)\n",
    "    info_crawling()\n",
    "    \n",
    "    if i != 11:\n",
    "        next_page()"
   ]
  },
  {
   "cell_type": "code",
   "execution_count": 43,
   "metadata": {},
   "outputs": [],
   "source": [
    "ebsi_1_math = ebsi"
   ]
  },
  {
   "cell_type": "code",
   "execution_count": 41,
   "metadata": {},
   "outputs": [],
   "source": [
    "df = pd.DataFrame.from_dict(ebsi)\n",
    "df.to_json('ebsi_1_math.json', orient = 'records')"
   ]
  },
  {
   "cell_type": "code",
   "execution_count": 7,
   "metadata": {},
   "outputs": [],
   "source": [
    "ebsi = {'title': [], 'subject' : [], 'teacher' : [], 'star': []}\n",
    "\n",
    "# 페이지 수로 반복문\n",
    "# ebsi 고1 영어\n",
    "driver.get(\"https://www.ebsi.co.kr/ebs/pot/potn/retrieveSbjtListByArea.ebs?categoryCode=B200&cookieGradeVal=high1\")\n",
    "time.sleep(1)\n",
    "\n",
    "for i in range(0, 11):\n",
    "    title_star_crawling(i)\n",
    "    info_crawling()\n",
    "    \n",
    "    if i != 10:\n",
    "        next_page()"
   ]
  },
  {
   "cell_type": "code",
   "execution_count": 51,
   "metadata": {},
   "outputs": [],
   "source": [
    "df = pd.DataFrame.from_dict(ebsi)\n",
    "df.to_json('ebsi_1_eng.json', orient = 'records')"
   ]
  },
  {
   "cell_type": "code",
   "execution_count": 8,
   "metadata": {},
   "outputs": [],
   "source": [
    "ebsi = {'title': [], 'subject' : [], 'teacher' : [], 'star': []}\n",
    "\n",
    "# 페이지 수로 반복문\n",
    "# ebsi 고2 국어\n",
    "driver.get(\"https://www.ebsi.co.kr/ebs/pot/potn/retrieveSbjtListByArea.ebs?categoryCode=B100&cookieGradeVal=high2\")\n",
    "time.sleep(1)\n",
    "\n",
    "for i in range(0, 9):\n",
    "    title_star_crawling(i)\n",
    "    info_crawling()\n",
    "    \n",
    "    if i != 8:\n",
    "        next_page()"
   ]
  },
  {
   "cell_type": "code",
   "execution_count": 11,
   "metadata": {},
   "outputs": [],
   "source": [
    "df = pd.DataFrame.from_dict(ebsi)\n",
    "df.to_json('ebsi_2_kor.json', orient = 'records')"
   ]
  },
  {
   "cell_type": "code",
   "execution_count": 12,
   "metadata": {},
   "outputs": [],
   "source": [
    "ebsi_2_kor = ebsi"
   ]
  },
  {
   "cell_type": "code",
   "execution_count": 10,
   "metadata": {},
   "outputs": [],
   "source": [
    "ebsi = {'title': [], 'subject' : [], 'teacher' : [], 'star': []}\n",
    "\n",
    "# 페이지 수로 반복문\n",
    "# ebsi 고2 수학\n",
    "driver.get(\"https://www.ebsi.co.kr/ebs/pot/potn/retrieveSbjtListByArea.ebs?categoryCode=B300&cookieGradeVal=high2\")\n",
    "time.sleep(1)\n",
    "\n",
    "for i in range(5, 18):\n",
    "    title_star_crawling(i)\n",
    "    info_crawling()\n",
    "    \n",
    "    if i != 17:\n",
    "        next_page()"
   ]
  },
  {
   "cell_type": "code",
   "execution_count": 88,
   "metadata": {},
   "outputs": [],
   "source": [
    "df = pd.DataFrame.from_dict(ebsi)\n",
    "df.to_json('ebsi_2_math.json', orient = 'records')"
   ]
  },
  {
   "cell_type": "code",
   "execution_count": 89,
   "metadata": {
    "scrolled": false
   },
   "outputs": [],
   "source": [
    "ebsi_2_math = ebsi"
   ]
  },
  {
   "cell_type": "code",
   "execution_count": 24,
   "metadata": {},
   "outputs": [],
   "source": [
    "ebsi = {'title': [], 'subject' : [], 'teacher' : [], 'star': []}\n",
    "\n",
    "# 페이지 수로 반복문\n",
    "# ebsi 고2 영어\n",
    "driver.get(\"https://www.ebsi.co.kr/ebs/pot/potn/retrieveSbjtListByArea.ebs?categoryCode=B200&cookieGradeVal=high2\")\n",
    "time.sleep(1)\n",
    "\n",
    "for i in range(10, 16):\n",
    "    title_star_crawling(i)\n",
    "    info_crawling()\n",
    "    \n",
    "    if i != 16:\n",
    "        next_page()"
   ]
  },
  {
   "cell_type": "code",
   "execution_count": 96,
   "metadata": {},
   "outputs": [],
   "source": [
    "df = pd.DataFrame.from_dict(ebsi)\n",
    "df.to_json('ebsi_2_eng.json', orient = 'records')"
   ]
  },
  {
   "cell_type": "code",
   "execution_count": 97,
   "metadata": {},
   "outputs": [],
   "source": [
    "ebsi_2_eng = ebsi"
   ]
  },
  {
   "cell_type": "code",
   "execution_count": 79,
   "metadata": {},
   "outputs": [],
   "source": [
    "ebsi = {'title': [], 'subject' : [], 'teacher' : [], 'star': []}\n",
    "\n",
    "# 페이지 수로 반복문\n",
    "# ebsi 고3 국어\n",
    "driver.get(\"https://www.ebsi.co.kr/ebs/pot/potn/retrieveSbjtListByArea.ebs?categoryCode=A100&cookieGradeVal=high3\")\n",
    "time.sleep(1)\n",
    "\n",
    "for i in range(0, 19):\n",
    "    title_star_crawling(i)\n",
    "    info_crawling()\n",
    "    \n",
    "    if i != 18:\n",
    "        next_page()"
   ]
  },
  {
   "cell_type": "code",
   "execution_count": 77,
   "metadata": {},
   "outputs": [],
   "source": [
    "df = pd.DataFrame.from_dict(ebsi)\n",
    "df.to_json('ebsi_3_kor.json', orient = 'records')"
   ]
  },
  {
   "cell_type": "code",
   "execution_count": 78,
   "metadata": {},
   "outputs": [],
   "source": [
    "ebsi_3_kor = ebsi"
   ]
  },
  {
   "cell_type": "code",
   "execution_count": 18,
   "metadata": {},
   "outputs": [
    {
     "ename": "NoSuchElementException",
     "evalue": "Message: no such element: Unable to locate element: {\"method\":\"css selector\",\"selector\":\".btn_next\"}\n  (Session info: chrome=94.0.4606.81)\n",
     "output_type": "error",
     "traceback": [
      "\u001b[1;31m---------------------------------------------------------------------------\u001b[0m",
      "\u001b[1;31mNoSuchElementException\u001b[0m                    Traceback (most recent call last)",
      "\u001b[1;32m<ipython-input-18-00f77546a9a9>\u001b[0m in \u001b[0;36m<module>\u001b[1;34m\u001b[0m\n\u001b[0;32m      7\u001b[0m \u001b[1;33m\u001b[0m\u001b[0m\n\u001b[0;32m      8\u001b[0m \u001b[1;32mfor\u001b[0m \u001b[0mi\u001b[0m \u001b[1;32min\u001b[0m \u001b[0mrange\u001b[0m\u001b[1;33m(\u001b[0m\u001b[1;36m2\u001b[0m\u001b[1;33m,\u001b[0m \u001b[1;36m29\u001b[0m\u001b[1;33m)\u001b[0m\u001b[1;33m:\u001b[0m\u001b[1;33m\u001b[0m\u001b[1;33m\u001b[0m\u001b[0m\n\u001b[1;32m----> 9\u001b[1;33m     \u001b[0mtitle_star_crawling\u001b[0m\u001b[1;33m(\u001b[0m\u001b[0mi\u001b[0m\u001b[1;33m)\u001b[0m\u001b[1;33m\u001b[0m\u001b[1;33m\u001b[0m\u001b[0m\n\u001b[0m\u001b[0;32m     10\u001b[0m     \u001b[0minfo_crawling\u001b[0m\u001b[1;33m(\u001b[0m\u001b[1;33m)\u001b[0m\u001b[1;33m\u001b[0m\u001b[1;33m\u001b[0m\u001b[0m\n\u001b[0;32m     11\u001b[0m \u001b[1;33m\u001b[0m\u001b[0m\n",
      "\u001b[1;32m<ipython-input-15-f1f37eb2629f>\u001b[0m in \u001b[0;36mtitle_star_crawling\u001b[1;34m(page)\u001b[0m\n\u001b[0;32m     32\u001b[0m             \u001b[1;32mif\u001b[0m \u001b[0mpage\u001b[0m \u001b[1;33m!=\u001b[0m \u001b[1;36m0\u001b[0m\u001b[1;33m:\u001b[0m\u001b[1;33m\u001b[0m\u001b[1;33m\u001b[0m\u001b[0m\n\u001b[0;32m     33\u001b[0m                 \u001b[1;32mfor\u001b[0m \u001b[0m_\u001b[0m \u001b[1;32min\u001b[0m \u001b[0mrange\u001b[0m\u001b[1;33m(\u001b[0m\u001b[1;36m0\u001b[0m\u001b[1;33m,\u001b[0m \u001b[0mpage\u001b[0m\u001b[1;33m)\u001b[0m\u001b[1;33m:\u001b[0m\u001b[1;33m\u001b[0m\u001b[1;33m\u001b[0m\u001b[0m\n\u001b[1;32m---> 34\u001b[1;33m                     \u001b[0mnext_page\u001b[0m\u001b[1;33m(\u001b[0m\u001b[1;33m)\u001b[0m\u001b[1;33m\u001b[0m\u001b[1;33m\u001b[0m\u001b[0m\n\u001b[0m\u001b[0;32m     35\u001b[0m \u001b[1;33m\u001b[0m\u001b[0m\n\u001b[0;32m     36\u001b[0m     \u001b[1;31m# 빈 값 삭제 처리\u001b[0m\u001b[1;33m\u001b[0m\u001b[1;33m\u001b[0m\u001b[1;33m\u001b[0m\u001b[0m\n",
      "\u001b[1;32m<ipython-input-15-f1f37eb2629f>\u001b[0m in \u001b[0;36mnext_page\u001b[1;34m()\u001b[0m\n\u001b[0;32m     67\u001b[0m     \u001b[0mtime\u001b[0m\u001b[1;33m.\u001b[0m\u001b[0msleep\u001b[0m\u001b[1;33m(\u001b[0m\u001b[1;36m1\u001b[0m\u001b[1;33m)\u001b[0m\u001b[1;33m\u001b[0m\u001b[1;33m\u001b[0m\u001b[0m\n\u001b[0;32m     68\u001b[0m     \u001b[1;31m# 다음 페이지로 갈 수 있는 버튼 요소\u001b[0m\u001b[1;33m\u001b[0m\u001b[1;33m\u001b[0m\u001b[1;33m\u001b[0m\u001b[0m\n\u001b[1;32m---> 69\u001b[1;33m     \u001b[0mbtn\u001b[0m \u001b[1;33m=\u001b[0m \u001b[0mdriver\u001b[0m\u001b[1;33m.\u001b[0m\u001b[0mfind_element_by_css_selector\u001b[0m\u001b[1;33m(\u001b[0m\u001b[1;34m\".btn_next\"\u001b[0m\u001b[1;33m)\u001b[0m\u001b[1;33m\u001b[0m\u001b[1;33m\u001b[0m\u001b[0m\n\u001b[0m\u001b[0;32m     70\u001b[0m     \u001b[0mbtn\u001b[0m\u001b[1;33m.\u001b[0m\u001b[0msend_keys\u001b[0m\u001b[1;33m(\u001b[0m\u001b[0mKeys\u001b[0m\u001b[1;33m.\u001b[0m\u001b[0mENTER\u001b[0m\u001b[1;33m)\u001b[0m\u001b[1;33m\u001b[0m\u001b[1;33m\u001b[0m\u001b[0m\n\u001b[0;32m     71\u001b[0m     \u001b[0mtime\u001b[0m\u001b[1;33m.\u001b[0m\u001b[0msleep\u001b[0m\u001b[1;33m(\u001b[0m\u001b[1;36m1\u001b[0m\u001b[1;33m)\u001b[0m\u001b[1;33m\u001b[0m\u001b[1;33m\u001b[0m\u001b[0m\n",
      "\u001b[1;32mC:\\ProgramData\\Anaconda3\\lib\\site-packages\\selenium\\webdriver\\remote\\webdriver.py\u001b[0m in \u001b[0;36mfind_element_by_css_selector\u001b[1;34m(self, css_selector)\u001b[0m\n\u001b[0;32m    596\u001b[0m             \u001b[0melement\u001b[0m \u001b[1;33m=\u001b[0m \u001b[0mdriver\u001b[0m\u001b[1;33m.\u001b[0m\u001b[0mfind_element_by_css_selector\u001b[0m\u001b[1;33m(\u001b[0m\u001b[1;34m'#foo'\u001b[0m\u001b[1;33m)\u001b[0m\u001b[1;33m\u001b[0m\u001b[1;33m\u001b[0m\u001b[0m\n\u001b[0;32m    597\u001b[0m         \"\"\"\n\u001b[1;32m--> 598\u001b[1;33m         \u001b[1;32mreturn\u001b[0m \u001b[0mself\u001b[0m\u001b[1;33m.\u001b[0m\u001b[0mfind_element\u001b[0m\u001b[1;33m(\u001b[0m\u001b[0mby\u001b[0m\u001b[1;33m=\u001b[0m\u001b[0mBy\u001b[0m\u001b[1;33m.\u001b[0m\u001b[0mCSS_SELECTOR\u001b[0m\u001b[1;33m,\u001b[0m \u001b[0mvalue\u001b[0m\u001b[1;33m=\u001b[0m\u001b[0mcss_selector\u001b[0m\u001b[1;33m)\u001b[0m\u001b[1;33m\u001b[0m\u001b[1;33m\u001b[0m\u001b[0m\n\u001b[0m\u001b[0;32m    599\u001b[0m \u001b[1;33m\u001b[0m\u001b[0m\n\u001b[0;32m    600\u001b[0m     \u001b[1;32mdef\u001b[0m \u001b[0mfind_elements_by_css_selector\u001b[0m\u001b[1;33m(\u001b[0m\u001b[0mself\u001b[0m\u001b[1;33m,\u001b[0m \u001b[0mcss_selector\u001b[0m\u001b[1;33m)\u001b[0m\u001b[1;33m:\u001b[0m\u001b[1;33m\u001b[0m\u001b[1;33m\u001b[0m\u001b[0m\n",
      "\u001b[1;32mC:\\ProgramData\\Anaconda3\\lib\\site-packages\\selenium\\webdriver\\remote\\webdriver.py\u001b[0m in \u001b[0;36mfind_element\u001b[1;34m(self, by, value)\u001b[0m\n\u001b[0;32m    974\u001b[0m                 \u001b[0mby\u001b[0m \u001b[1;33m=\u001b[0m \u001b[0mBy\u001b[0m\u001b[1;33m.\u001b[0m\u001b[0mCSS_SELECTOR\u001b[0m\u001b[1;33m\u001b[0m\u001b[1;33m\u001b[0m\u001b[0m\n\u001b[0;32m    975\u001b[0m                 \u001b[0mvalue\u001b[0m \u001b[1;33m=\u001b[0m \u001b[1;34m'[name=\"%s\"]'\u001b[0m \u001b[1;33m%\u001b[0m \u001b[0mvalue\u001b[0m\u001b[1;33m\u001b[0m\u001b[1;33m\u001b[0m\u001b[0m\n\u001b[1;32m--> 976\u001b[1;33m         return self.execute(Command.FIND_ELEMENT, {\n\u001b[0m\u001b[0;32m    977\u001b[0m             \u001b[1;34m'using'\u001b[0m\u001b[1;33m:\u001b[0m \u001b[0mby\u001b[0m\u001b[1;33m,\u001b[0m\u001b[1;33m\u001b[0m\u001b[1;33m\u001b[0m\u001b[0m\n\u001b[0;32m    978\u001b[0m             'value': value})['value']\n",
      "\u001b[1;32mC:\\ProgramData\\Anaconda3\\lib\\site-packages\\selenium\\webdriver\\remote\\webdriver.py\u001b[0m in \u001b[0;36mexecute\u001b[1;34m(self, driver_command, params)\u001b[0m\n\u001b[0;32m    319\u001b[0m         \u001b[0mresponse\u001b[0m \u001b[1;33m=\u001b[0m \u001b[0mself\u001b[0m\u001b[1;33m.\u001b[0m\u001b[0mcommand_executor\u001b[0m\u001b[1;33m.\u001b[0m\u001b[0mexecute\u001b[0m\u001b[1;33m(\u001b[0m\u001b[0mdriver_command\u001b[0m\u001b[1;33m,\u001b[0m \u001b[0mparams\u001b[0m\u001b[1;33m)\u001b[0m\u001b[1;33m\u001b[0m\u001b[1;33m\u001b[0m\u001b[0m\n\u001b[0;32m    320\u001b[0m         \u001b[1;32mif\u001b[0m \u001b[0mresponse\u001b[0m\u001b[1;33m:\u001b[0m\u001b[1;33m\u001b[0m\u001b[1;33m\u001b[0m\u001b[0m\n\u001b[1;32m--> 321\u001b[1;33m             \u001b[0mself\u001b[0m\u001b[1;33m.\u001b[0m\u001b[0merror_handler\u001b[0m\u001b[1;33m.\u001b[0m\u001b[0mcheck_response\u001b[0m\u001b[1;33m(\u001b[0m\u001b[0mresponse\u001b[0m\u001b[1;33m)\u001b[0m\u001b[1;33m\u001b[0m\u001b[1;33m\u001b[0m\u001b[0m\n\u001b[0m\u001b[0;32m    322\u001b[0m             response['value'] = self._unwrap_value(\n\u001b[0;32m    323\u001b[0m                 response.get('value', None))\n",
      "\u001b[1;32mC:\\ProgramData\\Anaconda3\\lib\\site-packages\\selenium\\webdriver\\remote\\errorhandler.py\u001b[0m in \u001b[0;36mcheck_response\u001b[1;34m(self, response)\u001b[0m\n\u001b[0;32m    240\u001b[0m                 \u001b[0malert_text\u001b[0m \u001b[1;33m=\u001b[0m \u001b[0mvalue\u001b[0m\u001b[1;33m[\u001b[0m\u001b[1;34m'alert'\u001b[0m\u001b[1;33m]\u001b[0m\u001b[1;33m.\u001b[0m\u001b[0mget\u001b[0m\u001b[1;33m(\u001b[0m\u001b[1;34m'text'\u001b[0m\u001b[1;33m)\u001b[0m\u001b[1;33m\u001b[0m\u001b[1;33m\u001b[0m\u001b[0m\n\u001b[0;32m    241\u001b[0m             \u001b[1;32mraise\u001b[0m \u001b[0mexception_class\u001b[0m\u001b[1;33m(\u001b[0m\u001b[0mmessage\u001b[0m\u001b[1;33m,\u001b[0m \u001b[0mscreen\u001b[0m\u001b[1;33m,\u001b[0m \u001b[0mstacktrace\u001b[0m\u001b[1;33m,\u001b[0m \u001b[0malert_text\u001b[0m\u001b[1;33m)\u001b[0m\u001b[1;33m\u001b[0m\u001b[1;33m\u001b[0m\u001b[0m\n\u001b[1;32m--> 242\u001b[1;33m         \u001b[1;32mraise\u001b[0m \u001b[0mexception_class\u001b[0m\u001b[1;33m(\u001b[0m\u001b[0mmessage\u001b[0m\u001b[1;33m,\u001b[0m \u001b[0mscreen\u001b[0m\u001b[1;33m,\u001b[0m \u001b[0mstacktrace\u001b[0m\u001b[1;33m)\u001b[0m\u001b[1;33m\u001b[0m\u001b[1;33m\u001b[0m\u001b[0m\n\u001b[0m\u001b[0;32m    243\u001b[0m \u001b[1;33m\u001b[0m\u001b[0m\n\u001b[0;32m    244\u001b[0m     \u001b[1;32mdef\u001b[0m \u001b[0m_value_or_default\u001b[0m\u001b[1;33m(\u001b[0m\u001b[0mself\u001b[0m\u001b[1;33m,\u001b[0m \u001b[0mobj\u001b[0m\u001b[1;33m,\u001b[0m \u001b[0mkey\u001b[0m\u001b[1;33m,\u001b[0m \u001b[0mdefault\u001b[0m\u001b[1;33m)\u001b[0m\u001b[1;33m:\u001b[0m\u001b[1;33m\u001b[0m\u001b[1;33m\u001b[0m\u001b[0m\n",
      "\u001b[1;31mNoSuchElementException\u001b[0m: Message: no such element: Unable to locate element: {\"method\":\"css selector\",\"selector\":\".btn_next\"}\n  (Session info: chrome=94.0.4606.81)\n"
     ]
    }
   ],
   "source": [
    "ebsi = {'title': [], 'subject' : [], 'teacher' : [], 'star': []}\n",
    "\n",
    "# 페이지 수로 반복문\n",
    "# ebsi 고3 수학\n",
    "driver.get(\"https://www.ebsi.co.kr/ebs/pot/potn/retrieveSbjtListByArea.ebs?categoryCode=A300&cookieGradeVal=high3\")\n",
    "time.sleep(1)\n",
    "\n",
    "for i in range(0, 29):\n",
    "    title_star_crawling(i)\n",
    "    info_crawling()\n",
    "    \n",
    "    if i != 28:\n",
    "        next_page()\n",
    "        \n",
    "        \n",
    "# 페이지 문제로 나중에 수정해서 크롤링 예정"
   ]
  },
  {
   "cell_type": "code",
   "execution_count": 11,
   "metadata": {},
   "outputs": [],
   "source": [
    "ebsi = {'title': [], 'subject' : [], 'teacher' : [], 'star': []}\n",
    "\n",
    "# 페이지 수로 반복문\n",
    "# ebsi 고3 영어\n",
    "driver.get(\"https://www.ebsi.co.kr/ebs/pot/potn/retrieveSbjtListByArea.ebs?categoryCode=A200&cookieGradeVal=high3\")\n",
    "time.sleep(1)\n",
    "\n",
    "for i in range(0, 18):\n",
    "    title_star_crawling(i)\n",
    "    info_crawling()\n",
    "    \n",
    "    if i != 17:\n",
    "        next_page()"
   ]
  },
  {
   "cell_type": "code",
   "execution_count": 32,
   "metadata": {},
   "outputs": [],
   "source": [
    "df = pd.DataFrame.from_dict(ebsi)\n",
    "df.to_json('ebsi_3_eng.json', orient = 'records')"
   ]
  },
  {
   "cell_type": "code",
   "execution_count": 33,
   "metadata": {},
   "outputs": [],
   "source": [
    "ebsi_3_eng = ebsi"
   ]
  },
  {
   "cell_type": "code",
   "execution_count": null,
   "metadata": {},
   "outputs": [],
   "source": []
  }
 ],
 "metadata": {
  "kernelspec": {
   "display_name": "Python 3",
   "language": "python",
   "name": "python3"
  },
  "language_info": {
   "codemirror_mode": {
    "name": "ipython",
    "version": 3
   },
   "file_extension": ".py",
   "mimetype": "text/x-python",
   "name": "python",
   "nbconvert_exporter": "python",
   "pygments_lexer": "ipython3",
   "version": "3.8.5"
  }
 },
 "nbformat": 4,
 "nbformat_minor": 4
}
