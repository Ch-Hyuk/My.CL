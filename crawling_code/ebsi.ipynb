{
 "cells": [
  {
   "cell_type": "code",
   "execution_count": 1,
   "metadata": {},
   "outputs": [],
   "source": [
    "from selenium import webdriver\n",
    "from selenium.webdriver.common.keys import Keys\n",
    "import time\n",
    "import json\n",
    "import pandas as pd\n",
    "import re"
   ]
  },
  {
   "cell_type": "code",
   "execution_count": 2,
   "metadata": {},
   "outputs": [],
   "source": [
    "driver = webdriver.Chrome('C:/Users/user/Downloads/chromedriver.exe')"
   ]
  },
  {
   "cell_type": "code",
   "execution_count": 3,
   "metadata": {},
   "outputs": [],
   "source": [
    "driver.get(\"https://www.ebsi.co.kr/ebs/pot/poti/main.ebs\")"
   ]
  },
  {
   "cell_type": "code",
   "execution_count": 9,
   "metadata": {},
   "outputs": [],
   "source": [
    "def crawling():\n",
    "    \n",
    "    # 학년별\n",
    "    for idx in range(3):\n",
    "        grade = driver.find_elements_by_xpath(\"/html/body/div[2]/nav/ul/li/a\")[idx].text\n",
    "        grade_btn = driver.find_elements_by_xpath(\"/html/body/div[2]/nav/ul/li/a\")[idx]\n",
    "        grade_btn.send_keys(Keys.ENTER)\n",
    "        time.sleep(2)\n",
    "        \n",
    "        all_class = driver.find_element_by_xpath(\"/html/body/div[2]/nav/div/div[1]/div/ul/li[2]/a\")\n",
    "        all_class.send_keys(Keys.ENTER)\n",
    "        time.sleep(2)\n",
    "        \n",
    "        # 과목별\n",
    "        for i in range(6):\n",
    "            subject = driver.find_elements_by_xpath(\"/html/body/div[2]/section/div/div[1]/div[2]/ul/li[5]/ul/li/a\")[i].text\n",
    "            subject_btn = driver.find_elements_by_xpath(\"/html/body/div[2]/section/div/div[1]/div[2]/ul/li[5]/ul/li/a\")[i]\n",
    "            subject_btn.send_keys(Keys.ENTER)\n",
    "            time.sleep(2)\n",
    "            //*[@id=\"series_ban_list\"]/div[1]/ul/li/div[2]/div[1]/p/a\n",
    "            # 강의 하나씩 추가\n",
    "            for a in range(15):\n",
    "                if driver.find_elements_by_xpath(\"//*[@id=\\\"series_ban_list\\\"]/div[1]/ul/li/div/div[1]/div[3]/span[1]\")[a].text == subject:\n",
    "                    ebsi['subject'].append(subject)\n",
    "                    ebsi['grade'].append(grade)\n",
    "                    ebsi['teacher'].append(driver.find_elements_by_xpath(\"//*[@id=\\\"series_ban_list\\\"]/div[1]/ul/li/div/div[1]/div[3]/span[2]\")[a].text)\n",
    "                    ebsi['title'].append(driver.find_elements_by_xpath(\"//*[@id=\\\"series_ban_list\\\"]/div[1]/ul/li/div[2]/div[1]/p/a\")[a].text)\n",
    "                    ebsi['link'].append(driver.find_elements_by_xpath(\"//*[@id=\\\"series_ban_list\\\"]/div[1]/ul/li/div[2]/div[1]/p/a\")[a].get_attribute('href'))"
   ]
  },
  {
   "cell_type": "code",
   "execution_count": 5,
   "metadata": {},
   "outputs": [],
   "source": [
    "ebsi = {'title': [], 'teacher': [], 'subject': [], 'grade': [], 'link': []}"
   ]
  },
  {
   "cell_type": "code",
   "execution_count": 1,
   "metadata": {},
   "outputs": [],
   "source": [
    "crawling()"
   ]
  },
  {
   "cell_type": "code",
   "execution_count": 19,
   "metadata": {},
   "outputs": [],
   "source": [
    "df = pd.DataFrame.from_dict(ebsi)\n",
    "df.to_json('ebsi.json', orient = 'records')"
   ]
  },
  {
   "cell_type": "code",
   "execution_count": null,
   "metadata": {},
   "outputs": [],
   "source": []
  }
 ],
 "metadata": {
  "kernelspec": {
   "display_name": "Python 3",
   "language": "python",
   "name": "python3"
  },
  "language_info": {
   "codemirror_mode": {
    "name": "ipython",
    "version": 3
   },
   "file_extension": ".py",
   "mimetype": "text/x-python",
   "name": "python",
   "nbconvert_exporter": "python",
   "pygments_lexer": "ipython3",
   "version": "3.8.5"
  }
 },
 "nbformat": 4,
 "nbformat_minor": 4
}
