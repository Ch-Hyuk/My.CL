{
 "cells": [
  {
   "cell_type": "code",
   "execution_count": 29,
   "metadata": {},
   "outputs": [],
   "source": [
    "from selenium import webdriver\n",
    "from selenium.webdriver.common.keys import Keys\n",
    "import time\n",
    "import json\n",
    "import pandas as pd\n",
    "import re"
   ]
  },
  {
   "cell_type": "code",
   "execution_count": 30,
   "metadata": {},
   "outputs": [],
   "source": [
    "driver = webdriver.Chrome('C:/Users/user/Downloads/chromedriver.exe')"
   ]
  },
  {
   "cell_type": "code",
   "execution_count": 31,
   "metadata": {},
   "outputs": [],
   "source": [
    "driver.get(\"https://go3.etoos.com/teacher/default.asp?etgrd=go3\")"
   ]
  },
  {
   "cell_type": "code",
   "execution_count": 33,
   "metadata": {},
   "outputs": [],
   "source": [
    "def crawling():\n",
    "    for idx in range(3):\n",
    "        subject = driver.find_elements_by_xpath(\"//*[@id=\\\"wrapmyroom\\\"]/ul/li/a\")[idx].text\n",
    "        subject_btn = driver.find_elements_by_xpath(\"//*[@id=\\\"wrapmyroom\\\"]/ul/li/a\")[idx]\n",
    "        subject_btn.send_keys(Keys.ENTER)\n",
    "        time.sleep(2)\n",
    "\n",
    "        teacher_cnt = range(len(driver.find_elements_by_xpath(\"//*[@id=\\\"wrapmyroom\\\"]/div[{}]/div/ul/li/div/a/em\".format(idx + 3))))\n",
    "        for t in teacher_cnt:\n",
    "            teacher = driver.find_elements_by_xpath(\"//*[@id=\\\"wrapmyroom\\\"]/div[{}]/div/ul/li/div/a/em\".format(idx + 3))[t].text.replace(\"\\n선생님\", \"\")\n",
    "            teacher_btn = driver.find_elements_by_xpath(\"//*[@id=\\\"wrapmyroom\\\"]/div[{}]/div/ul/li/div/a\".format(idx + 3))[t]\n",
    "            teacher_btn.send_keys(Keys.ENTER)\n",
    "            time.sleep(2)\n",
    "            \n",
    "            all_class = driver.find_element_by_xpath(\"//*[@id=\\\"etoosContent\\\"]/div[1]/div[1]/div[1]/div/ul/li[1]/a\")\n",
    "            all_class.send_keys(Keys.ENTER)\n",
    "            time.sleep(2)\n",
    "            \n",
    "            grade_cnt = len(driver.find_elements_by_xpath(\"//*[@id=\\\"Hsub_con\\\"]/ul/li/a\"))\n",
    "            for i in range(grade_cnt): \n",
    "                grade = driver.find_elements_by_xpath(\"//*[@id=\\\"Hsub_con\\\"]/ul/li/a\")[i].text\n",
    "                grade_btn = driver.find_elements_by_xpath(\"//*[@id=\\\"Hsub_con\\\"]/ul/li/a\")[i]\n",
    "                grade_btn.send_keys(Keys.ENTER)\n",
    "                time.sleep(2)\n",
    "                \n",
    "                try:\n",
    "                    for ind in range(3):\n",
    "                        if not driver.find_elements_by_xpath(\"//*[@id=\\\"cartForm_2\\\"]/ul/li/div/div/div/div[1]/a[1]\")[ind].text in etoos['title']:\n",
    "                            etoos['subject'].append(subject)\n",
    "                            etoos['grade'].append(grade)\n",
    "                            etoos['teacher'].append(teacher)\n",
    "                            etoos['title'].append(driver.find_elements_by_xpath(\"//*[@id=\\\"cartForm_2\\\"]/ul/li/div/div/div/div[1]/a[1]\")[ind].text)\n",
    "                            etoos['link'].append(driver.find_elements_by_xpath(\"//*[@id=\\\"cartForm_2\\\"]/ul/li/div/div/div/div[1]/a[1]\")[ind].get_attribute(\"href\"))\n",
    "                except:\n",
    "                    driver.back()\n",
    "                    time.sleep(2)\n",
    "                    \n",
    "            for _ in range(grade_cnt + 2):\n",
    "                driver.back()\n",
    "                time.sleep(2)\n",
    "                \n",
    "            subject_btn = driver.find_elements_by_xpath(\"//*[@id=\\\"wrapmyroom\\\"]/ul/li/a\")[idx]\n",
    "            subject_btn.send_keys(Keys.ENTER)\n",
    "            time.sleep(2)"
   ]
  },
  {
   "cell_type": "code",
   "execution_count": 32,
   "metadata": {},
   "outputs": [],
   "source": [
    "etoos = {'title': [], 'teacher': [], 'subject': [], 'grade': [], 'link': []}"
   ]
  },
  {
   "cell_type": "code",
   "execution_count": 71,
   "metadata": {},
   "outputs": [],
   "source": [
    "crawling()"
   ]
  },
  {
   "cell_type": "code",
   "execution_count": 70,
   "metadata": {},
   "outputs": [],
   "source": [
    "df = pd.DataFrame.from_dict(etoos)\n",
    "df.to_json('etoos.json', orient = 'records')"
   ]
  },
  {
   "cell_type": "code",
   "execution_count": null,
   "metadata": {},
   "outputs": [],
   "source": []
  }
 ],
 "metadata": {
  "kernelspec": {
   "display_name": "Python 3",
   "language": "python",
   "name": "python3"
  },
  "language_info": {
   "codemirror_mode": {
    "name": "ipython",
    "version": 3
   },
   "file_extension": ".py",
   "mimetype": "text/x-python",
   "name": "python",
   "nbconvert_exporter": "python",
   "pygments_lexer": "ipython3",
   "version": "3.8.5"
  }
 },
 "nbformat": 4,
 "nbformat_minor": 4
}
