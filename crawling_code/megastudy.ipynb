{
 "cells": [
  {
   "cell_type": "code",
   "execution_count": 18,
   "metadata": {},
   "outputs": [],
   "source": [
    "from selenium import webdriver\n",
    "from selenium.webdriver.common.keys import Keys\n",
    "import time\n",
    "import json\n",
    "import pandas as pd\n",
    "import re"
   ]
  },
  {
   "cell_type": "code",
   "execution_count": 19,
   "metadata": {},
   "outputs": [],
   "source": [
    "driver = webdriver.Chrome('C:/Users/user/Downloads/chromedriver.exe')"
   ]
  },
  {
   "cell_type": "code",
   "execution_count": 52,
   "metadata": {},
   "outputs": [],
   "source": [
    "driver.get(\"http://www.megastudy.net/teacher_v2/teacher_main.asp\")"
   ]
  },
  {
   "cell_type": "code",
   "execution_count": 98,
   "metadata": {},
   "outputs": [],
   "source": [
    "def crawling():\n",
    "    \n",
    "    # 과목 수\n",
    "    for sub_num in range(6):\n",
    "        \n",
    "        # 과목 선택\n",
    "        subject = driver.find_elements_by_xpath(\"//*[@id=\\\"container\\\"]/div/div[2]/ul/li/a\")[sub_num].text\n",
    "        subject_btn = driver.find_elements_by_xpath(\"//*[@id=\\\"container\\\"]/div/div[2]/ul/li/a\")[sub_num]\n",
    "        subject_btn.send_keys(Keys.ENTER)\n",
    "        time.sleep(2)\n",
    "        \n",
    "        teacher_cnt = range(0, len(driver.find_elements_by_xpath(\"//*[@id=\\\"tchContArea\\\"]/div/div/ul/li/a[1]\")))\n",
    "        for tch_num in teacher_cnt:\n",
    "            \n",
    "            # 선생님 선택\n",
    "            teacher_btn = driver.find_elements_by_xpath(\"//*[@id=\\\"tchContArea\\\"]/div/div/ul/li/a[1]\")[tch_num]\n",
    "            teacher_btn.send_keys(Keys.ENTER)\n",
    "            time.sleep(2)\n",
    "        \n",
    "            all_class = driver.find_element_by_xpath(\"//*[@id=\\\"container\\\"]/div[1]/div[1]/ul/li[2]/ul/li[1]/a\")\n",
    "            all_class.send_keys(Keys.ENTER)\n",
    "            time.sleep(2)\n",
    "            \n",
    "            all_class = driver.find_element_by_xpath(\"//*[@id=\\\"iMenuList1\\\"]\")\n",
    "            all_class.send_keys(Keys.ENTER)\n",
    "            time.sleep(2)\n",
    "            \n",
    "            for j in range(len(driver.find_elements_by_xpath(\"//*[@id=\\\"divChrTabArea\\\"]/ul/li/a\"))):\n",
    "                cate = driver.find_elements_by_xpath(\"//*[@id=\\\"divChrTabArea\\\"]/ul/li/a\")[j]\n",
    "                cate.send_keys(Keys.ENTER)\n",
    "                time.sleep(2)\n",
    "                \n",
    "                for i in range(3):\n",
    "                    megastudy['teacher'].append(driver.find_elements_by_xpath(\"//*[@id=\\\"iChrList\\\"]/table/tbody/tr/td[1]/a\")[i].text)\n",
    "                    megastudy['title'].append(driver.find_elements_by_xpath(\"//*[@id=\\\"iChrList\\\"]/table/tbody/tr/td[2]/div/p[3]/a\")[i].text)\n",
    "                    megastudy['subject'].append(subject)\n",
    "                    megastudy['grade'].append(re.findall('\\[(\\S*)\\].*', (driver.find_elements_by_css_selector(\"span.lstedu_bookinfo--class__txt\")[i].text))[0])\n",
    "                    megastudy['link'].append(driver.find_elements_by_xpath(\"//*[@id=\\\"iChrList\\\"]/table/tbody/tr/td[2]/div/p[3]/a\")[i].get_attribute(\"href\"))\n",
    "            \n",
    "            driver.get(\"http://www.megastudy.net/teacher_v2/teacher_main.asp\")\n",
    "            time.sleep(2)\n",
    "                                          \n",
    "            subject_btn = driver.find_elements_by_xpath(\"//*[@id=\\\"container\\\"]/div/div[2]/ul/li/a\")[sub_num]\n",
    "            subject_btn.send_keys(Keys.ENTER)\n",
    "            time.sleep(2)\n",
    "                                          \n",
    "        if sub_num != 3:\n",
    "            # 고1, 고2 전용\n",
    "            teacher_cnt = range(len(driver.find_elements_by_xpath(\"//*[@id=\\\"tchContArea\\\"]/div/div[1]/ul/li/a[1]\")))\n",
    "            for tch_num in teacher_cnt:\n",
    "            \n",
    "                # 선생님 선택\n",
    "                teacher_btn = driver.find_elements_by_xpath(\"//*[@id=\\\"tchContArea\\\"]/div/div[1]/ul/li/a[1]\")[tch_num]\n",
    "                teacher_btn.send_keys(Keys.ENTER)\n",
    "                time.sleep(2)\n",
    "            \n",
    "                all_class = driver.find_element_by_xpath(\"//*[@id=\\\"container\\\"]/div[1]/div[1]/ul/li[2]/ul/li[1]/a\")\n",
    "                all_class.send_keys(Keys.ENTER)\n",
    "                time.sleep(2)\n",
    "            \n",
    "                all_class = driver.find_element_by_xpath(\"//*[@id=\\\"iMenuList1\\\"]\")\n",
    "                all_class.send_keys(Keys.ENTER)\n",
    "                time.sleep(2)\n",
    "                                          \n",
    "                for i in range(3):\n",
    "                    megastudy['teacher'].append(driver.find_elements_by_xpath(\"//*[@id=\\\"iChrList\\\"]/table/tbody/tr/td[1]/a\")[i].text)\n",
    "                    megastudy['title'].append(driver.find_elements_by_xpath(\"//*[@id=\\\"iChrList\\\"]/table/tbody/tr/td[2]/div/p[3]/a\")[i].text)\n",
    "                    megastudy['subject'].append(subject)\n",
    "                    megastudy['grade'].append(re.findall('\\[(\\S*)\\].*', (driver.find_elements_by_css_selector(\"span.lstedu_bookinfo--class__txt\")[i].text))[0])\n",
    "                    megastudy['link'].append(driver.find_elements_by_xpath(\"//*[@id=\\\"iChrList\\\"]/table/tbody/tr/td[2]/div/p[3]/a\")[i].get_attribute('href'))\n",
    "                                              \n",
    "                all_class = driver.find_element_by_xpath(\"//*[@id=\\\"divChrTabArea\\\"]/ul/li[2]/a\")\n",
    "                all_class.send_keys(Keys.ENTER)\n",
    "                time.sleep(2)\n",
    "                                              \n",
    "                for i in range(3):\n",
    "                    megastudy['teacher'].append(driver.find_elements_by_xpath(\"//*[@id=\\\"iChrList\\\"]/table/tbody/tr/td[1]/a\")[i].text)\n",
    "                    megastudy['title'].append(driver.find_elements_by_xpath(\"//*[@id=\\\"iChrList\\\"]/table/tbody/tr/td[2]/div/p[3]/a\")[i].text)\n",
    "                    megastudy['subject'].append(subject)\n",
    "                    megastudy['grade'].append(re.findall('\\[(\\S*)\\].*', (driver.find_elements_by_css_selector(\"span.lstedu_bookinfo--class__txt\")[i].text))[0])\n",
    "                    megastudy['link'].append(driver.find_elements_by_xpath(\"//*[@id=\\\"iChrList\\\"]/table/tbody/tr/td[2]/div/p[3]/a\")[i].get_attribute('href'))\n",
    "                driver.get(\"http://www.megastudy.net/teacher_v2/teacher_main.asp\")\n",
    "                time.sleep(2)\n",
    "                                          \n",
    "                subject_btn = driver.find_elements_by_xpath(\"//*[@id=\\\"container\\\"]/div/div[2]/ul/li/a\")[sub_num]\n",
    "                subject_btn.send_keys(Keys.ENTER)\n",
    "                time.sleep(2)"
   ]
  },
  {
   "cell_type": "code",
   "execution_count": 55,
   "metadata": {},
   "outputs": [],
   "source": [
    "megastudy = {'title': [], 'teacher': [], 'subject': [], 'grade': [], 'link': []}"
   ]
  },
  {
   "cell_type": "code",
   "execution_count": 102,
   "metadata": {},
   "outputs": [],
   "source": [
    "crawling()"
   ]
  },
  {
   "cell_type": "code",
   "execution_count": 101,
   "metadata": {},
   "outputs": [],
   "source": [
    "df = pd.DataFrame.from_dict(megastudy)\n",
    "df.to_json('megastudy.json', orient = 'records')"
   ]
  },
  {
   "cell_type": "code",
   "execution_count": null,
   "metadata": {},
   "outputs": [],
   "source": []
  }
 ],
 "metadata": {
  "kernelspec": {
   "display_name": "Python 3",
   "language": "python",
   "name": "python3"
  },
  "language_info": {
   "codemirror_mode": {
    "name": "ipython",
    "version": 3
   },
   "file_extension": ".py",
   "mimetype": "text/x-python",
   "name": "python",
   "nbconvert_exporter": "python",
   "pygments_lexer": "ipython3",
   "version": "3.8.5"
  }
 },
 "nbformat": 4,
 "nbformat_minor": 4
}
