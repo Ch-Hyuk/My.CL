{
 "cells": [
  {
   "cell_type": "code",
   "execution_count": 104,
   "metadata": {},
   "outputs": [],
   "source": [
    "from selenium import webdriver\n",
    "from selenium.webdriver.common.keys import Keys\n",
    "import time\n",
    "import re\n",
    "import json\n",
    "import pandas as pd\n",
    "from selenium.webdriver.common.action_chains import ActionChains\n"
   ]
  },
  {
   "cell_type": "code",
   "execution_count": 76,
   "metadata": {},
   "outputs": [],
   "source": [
    "driver = webdriver.Chrome('C:/Users/user/Downloads/chromedriver.exe')"
   ]
  },
  {
   "cell_type": "code",
   "execution_count": 128,
   "metadata": {},
   "outputs": [],
   "source": [
    "def crawling(subject_name):\n",
    "    \n",
    "    # 해당 과목 카테고리 클릭\n",
    "    subject = driver.find_element_by_css_selector('#lecTabLi0{} > a'.format(subject_name))\n",
    "    sub_name = driver.find_element_by_css_selector('#lecTabLi0{} > a'.format(subject_name)).text\n",
    "    subject.send_keys(Keys.ENTER)\n",
    "    time.sleep(5)\n",
    "    \n",
    "    # 선생님 수\n",
    "    cnt = range(0, len(driver.find_elements_by_xpath(\"/html/body/div[1]/div[6]/div[2]/div[4]/div[3]/ul/li/a/img\")))\n",
    "    print(cnt)\n",
    "    \n",
    "    for i in cnt:\n",
    "    \n",
    "        # 선생님 상세 페이지\n",
    "        if i == 2:\n",
    "            continue\n",
    "            \n",
    "        tcher = driver.find_element_by_xpath(\"/html/body/div[1]/div[6]/div[2]/div[4]/div[3]/ul/li[{}]/a/img\".format(str(i+1)))\n",
    "        ActionChains(driver).move_to_element(tcher).click(tcher).perform()\n",
    "        time.sleep(3)\n",
    "        # 해당 선생님 전체 강좌\n",
    "        class_cate = driver.find_element_by_css_selector(\"#lctrTabC > a\")\n",
    "        class_cate.send_keys(Keys.ENTER)\n",
    "        time.sleep(5)\n",
    "        \n",
    "        class_cnt = range(0, len(driver.find_elements_by_css_selector(\"#tcherLctrList > div > div.lec_tabsec.tchart > div > table > tbody > tr > td.name\")))\n",
    "        print(class_cnt)\n",
    "        for i in class_cnt:\n",
    "            mimac['subject'].append(sub_name)\n",
    "            mimac['teacher'].append(driver.find_elements_by_css_selector(\"#tcherLctrList > div > div.lec_tabsec.tchart > div > table > tbody > tr > td.name\")[i].text)\n",
    "            mimac['grade'].append(driver.find_elements_by_xpath(\"//*[@id=\\\"tcherLctrList\\\"]/div/div[4]/div/table/tbody/tr/td[2]/p\")[i].text)\n",
    "        \n",
    "        title = driver.find_elements_by_xpath(\"//*[@id=\\\"tcherLctrList\\\"]/div/div[4]/div/table/tbody/tr/td[3]\")\n",
    "        for t in title:\n",
    "            title = t.text.split('\\n')\n",
    "            try:\n",
    "                idx = title.index('강좌특징')\n",
    "            except:\n",
    "                try:\n",
    "                    idx = title.index('커리큘럼')\n",
    "                except:\n",
    "                    try:\n",
    "                        idx = title.index('입고알리미')\n",
    "                    except:\n",
    "                        idx = 2\n",
    "                    \n",
    "            mimac['title'].append(title[idx - 1])\n",
    "            \n",
    "        driver.back()\n",
    "        time.sleep(3)\n",
    "        \n",
    "        driver.back()\n",
    "        time.sleep(3)\n",
    "        \n",
    "        subject = driver.find_element_by_css_selector('#lecTabLi0{} > a'.format(subject_name))\n",
    "        subject.send_keys(Keys.ENTER)\n",
    "        time.sleep(3)"
   ]
  },
  {
   "cell_type": "code",
   "execution_count": 88,
   "metadata": {},
   "outputs": [
    {
     "name": "stdout",
     "output_type": "stream",
     "text": [
      "range(0, 5)\n",
      "range(0, 26)\n",
      "range(0, 26)\n",
      "range(0, 20)\n",
      "range(0, 13)\n",
      "range(0, 25)\n"
     ]
    }
   ],
   "source": [
    "# 국어\n",
    "driver.get(\"http://www.mimacstudy.com/tcher/home/tcherHomeMain.ds?requestMenuId=MNMN_M004\")\n",
    "time.sleep(3)\n",
    "\n",
    "# 국어 카테고리 진입\n",
    "subject = \"1\" \n",
    "\n",
    "mimac = {'title': [], 'subject': [], 'teacher': [], 'grade': []}\n",
    "\n",
    "crawling(subject)"
   ]
  },
  {
   "cell_type": "code",
   "execution_count": 91,
   "metadata": {},
   "outputs": [],
   "source": [
    "df = pd.DataFrame.from_dict(mimac)\n",
    "df.to_json('mimac_kor.json', orient = 'records')"
   ]
  },
  {
   "cell_type": "code",
   "execution_count": 124,
   "metadata": {},
   "outputs": [],
   "source": [
    "# 수학\n",
    "driver.get(\"http://www.mimacstudy.com/tcher/home/tcherHomeMain.ds?requestMenuId=MNMN_M004\")\n",
    "time.sleep(3)\n",
    "\n",
    "# 수학 카테고리 진입\n",
    "subject = \"2\" \n",
    "\n",
    "mimac = {'title': [], 'subject': [], 'teacher': [], 'grade': []}\n",
    "\n",
    "crawling(subject)"
   ]
  },
  {
   "cell_type": "code",
   "execution_count": 123,
   "metadata": {},
   "outputs": [],
   "source": [
    "df = pd.DataFrame.from_dict(mimac)\n",
    "df.to_json('mimac_math.json', orient = 'records')"
   ]
  },
  {
   "cell_type": "code",
   "execution_count": 136,
   "metadata": {},
   "outputs": [],
   "source": [
    "# 영어\n",
    "driver.get(\"http://www.mimacstudy.com/tcher/home/tcherHomeMain.ds?requestMenuId=MNMN_M004\")\n",
    "time.sleep(3)\n",
    "\n",
    "# 영어 카테고리 진입\n",
    "subject = \"3\" \n",
    "\n",
    "mimac = {'title': [], 'subject': [], 'teacher': [], 'grade': []}\n",
    "\n",
    "crawling(subject)"
   ]
  },
  {
   "cell_type": "code",
   "execution_count": 135,
   "metadata": {},
   "outputs": [],
   "source": [
    "df = pd.DataFrame.from_dict(mimac)\n",
    "df.to_json('mimac_eng.json', orient = 'records')"
   ]
  },
  {
   "cell_type": "code",
   "execution_count": null,
   "metadata": {},
   "outputs": [],
   "source": []
  }
 ],
 "metadata": {
  "kernelspec": {
   "display_name": "Python 3",
   "language": "python",
   "name": "python3"
  },
  "language_info": {
   "codemirror_mode": {
    "name": "ipython",
    "version": 3
   },
   "file_extension": ".py",
   "mimetype": "text/x-python",
   "name": "python",
   "nbconvert_exporter": "python",
   "pygments_lexer": "ipython3",
   "version": "3.8.5"
  }
 },
 "nbformat": 4,
 "nbformat_minor": 4
}
